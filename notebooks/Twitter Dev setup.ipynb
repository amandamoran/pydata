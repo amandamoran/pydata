{
 "cells": [
  {
   "cell_type": "markdown",
   "metadata": {},
   "source": [
    "## Twitter Dev Setup\n",
    "------"
   ]
  },
  {
   "cell_type": "markdown",
   "metadata": {},
   "source": [
    "### Overview\n",
    "------\n",
    "* Create a Twitter Account and get API access: https://developer.twitter.com/en/apply-for-access\n",
    "* CONSUMER_KEY \n",
    "* CONSUMER_SECRET \n",
    "* ACCESS_TOKEN \n",
    "* ACCESS_TOKEN_SECRET\n",
    "* !pip install tweepy"
   ]
  },
  {
   "cell_type": "markdown",
   "metadata": {},
   "source": [
    "## First you must apply to get a Twitter Dev Account\n",
    "#### ***If this is not of interest to you, then you may use the already existing CSV files to walk through this tutorial***\n",
    "\n",
    "* Follow this link here: https://developer.twitter.com/en/apply-for-access\n",
    "* If you do not have a regular Twitter account, you will need to apply for that here: https://twitter.com/i/flow/signup\n",
    "* Fill out application... follow steps. Verify email address at multiple steps. \n",
    "* Once you get final acceptance email, you will be directed to this page. \n",
    "<img src=\"images/createApp.png\" width=\"650\" height=\"350\">\n",
    "* Create a Twitter App to be able to connect\n",
    "<img src=\"images/finalAppInfo.png\" width=\"550\" height=\"350\">\n",
    "* Go to Keys and Tokens tab and create ***Access token & access token secret*** Should now have 4 keys/tokens.\n",
    "<img src=\"images/createKeys.png\" width=\"650\" height=\"350\"> \n",
    "* Copy-paste the API key, API secret key, Access token, Access token secret into the Rotten Tomatoes Notebook"
   ]
  },
  {
   "cell_type": "markdown",
   "metadata": {},
   "source": [
    "#### Required from Twitter: \n",
    "* consumer_key= 'API key'\n",
    "* consumer_secret= 'API secret key'\n",
    "* access_token= 'Access token'\n",
    "* access_token_secret= 'Access token secret'\n",
    "\n",
    "* Enter them below, or save as enviroment variables and import\n",
    "* Your name will be printed if able to connect"
   ]
  },
  {
   "cell_type": "code",
   "execution_count": null,
   "metadata": {},
   "outputs": [],
   "source": [
    "consumer_key = ''\n",
    "consumer_secret = ''\n",
    "\n",
    "access_token = ''\n",
    "access_token_secret = ''\n",
    "\n",
    "auth = tweepy.OAuthHandler(consumer_key, consumer_secret)\n",
    "auth.set_access_token(access_token, access_token_secret)\n",
    "\n",
    "api = tweepy.API(auth)\n",
    "print(api.me().name)"
   ]
  }
 ],
 "metadata": {
  "kernelspec": {
   "display_name": "Python 2",
   "language": "python",
   "name": "python2"
  },
  "language_info": {
   "codemirror_mode": {
    "name": "ipython",
    "version": 2
   },
   "file_extension": ".py",
   "mimetype": "text/x-python",
   "name": "python",
   "nbconvert_exporter": "python",
   "pygments_lexer": "ipython2",
   "version": "2.7.15"
  }
 },
 "nbformat": 4,
 "nbformat_minor": 2
}
