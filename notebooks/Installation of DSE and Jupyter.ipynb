{
 "cells": [
  {
   "cell_type": "markdown",
   "metadata": {},
   "source": [
    "## Installation of DataStax Enterprise and Jupyter\n",
    "<img src=\"images/datastaxlogo.png\" width=\"200\" height=\"200\">\n",
    "===="
   ]
  },
  {
   "cell_type": "markdown",
   "metadata": {},
   "source": [
    "### Overview\n",
    "------\n",
    "#### Versions\n",
    "* Python 2.7\n",
    "* DSE Analytics 6.0.4\n",
    "* Latest Version of Jupyter\n",
    "#### Sign up for DataStax Academy Account\n",
    "* Binary for DSE: https://academy.datastax.com/quick-downloads\n",
    "#### Install and Start DSE\n",
    "* Install DSE https://docs.datastax.com/en/install/doc/install60/installTOC.html\n",
    "* Start DSE Analytics Cluster: dse cassandra -k #Must use -k option for Analytics\n",
    "#### Set Path Variables to use DSE Analytics\n",
    "* Find full path to <>/dse-6.0.4/resources/spark/python/lib/pyspark.zip\n",
    "* Find full path to <>/dse-6.0.4/resources/spark/python/lib/py4j-0.10.4-src.zip\n",
    "#### Start Jupyter with DSE Command\n",
    "* Start Jupyter with DSE to get all environemnt variables: dse exec jupyter notebook\n",
    "#### Install Python Packages\n",
    "* !pip install cassandra-driver\n",
    "* !pip install pattern \n",
    "* !pip install panadas\n",
    "* Counter-intuitive don't install pyspark!!"
   ]
  },
  {
   "cell_type": "markdown",
   "metadata": {},
   "source": []
  },
  {
   "cell_type": "code",
   "execution_count": null,
   "metadata": {},
   "outputs": [],
   "source": []
  }
 ],
 "metadata": {
  "kernelspec": {
   "display_name": "Python 2",
   "language": "python",
   "name": "python2"
  },
  "language_info": {
   "codemirror_mode": {
    "name": "ipython",
    "version": 2
   },
   "file_extension": ".py",
   "mimetype": "text/x-python",
   "name": "python",
   "nbconvert_exporter": "python",
   "pygments_lexer": "ipython2",
   "version": "2.7.15"
  }
 },
 "nbformat": 4,
 "nbformat_minor": 2
}
