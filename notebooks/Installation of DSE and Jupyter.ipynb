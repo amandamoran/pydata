{
 "cells": [
  {
   "cell_type": "markdown",
   "metadata": {},
   "source": [
    "## Installation of DataStax Enterprise and Jupyter\n",
    "<img src=\"images/datastaxlogo.png\" width=\"200\" height=\"200\">"
   ]
  },
  {
   "cell_type": "markdown",
   "metadata": {},
   "source": [
    "### Overview\n",
    "------\n",
    "#### Versions\n",
    "* Python 2.7\n",
    "* DSE Analytics 6.0.4\n",
    "* Java 1.8\n",
    "* Latest Version of Jupyter\n",
    "#### Sign up for DataStax Academy Account\n",
    "* Binary for DSE: https://academy.datastax.com/quick-downloads\n",
    "#### Install and Start DSE\n",
    "* Install DSE https://docs.datastax.com/en/install/doc/install60/installTOC.html\n",
    "* Start DSE Analytics Cluster: dse cassandra -k #Must use -k option for Analytics\n",
    "#### Set Path Variables to use DSE Analytics\n",
    "* Find full path to <>/dse-6.0.4/resources/spark/python/lib/pyspark.zip\n",
    "* Find full path to <>/dse-6.0.4/resources/spark/python/lib/py4j-0.10.4-src.zip\n",
    "#### Start Jupyter with DSE Command\n",
    "* Start Jupyter with DSE to get all environemnt variables: dse exec jupyter notebook\n",
    "#### Install Python Packages\n",
    "* !pip install cassandra-driver\n",
    "* !pip install pattern \n",
    "* !pip install panadas\n",
    "* Counter-intuitive don't install pyspark!!"
   ]
  },
  {
   "cell_type": "markdown",
   "metadata": {},
   "source": [
    "### Sign up for DataStax Academy Account¶\n",
    "* Binary for DSE: https://academy.datastax.com/quick-downloads\n",
    "* Download DataStax Enterprise\n",
    "<img src=\"images/dse.png\" width=\"200\" height=\"200\">\n",
    "* mkdir /Users/yourusername/datastax\n",
    "* cp Downloads/dse-6.0.4-bin.tar.gz /Users/yourusername/datastax"
   ]
  },
  {
   "cell_type": "markdown",
   "metadata": {},
   "source": [
    "### Check Java Version \n",
    "* java -version\n",
    "* If not version 1.8 -> https://www.oracle.com/technetwork/java/javase/downloads/jdk8-downloads-2133151.html"
   ]
  },
  {
   "cell_type": "markdown",
   "metadata": {},
   "source": [
    "### Install DSE\n",
    "###### Replace USER:GROUP with your own userid and group \n",
    "* Full documentation here: https://docs.datastax.com/en/install/doc/install60/installTARdse.html\n",
    "* sudo mkdir -p /var/lib/cassandra; sudo chown -R  USER:GROUP /var/lib/cassandra\n",
    "* sudo mkdir -p /var/log/cassandra; sudo chown -R  USER:GROUP /var/log/cassandra\n",
    "* sudo mkdir -p /var/lib/dsefs; sudo chown -R  USER:GROUP /var/lib/dsefs\n",
    "* sudo mkdir -p /var/lib/spark; sudo chown -R  USER:GROUP /var/lib/spark\n",
    "* sudo mkdir -p /var/log/spark; sudo chown -R  USER:GROUP /var/log/spark\n",
    "* sudo mkdir -p /var/lib/spark/rdd; sudo chown -R  USER:GROUP /var/lib/spark/rdd\n",
    "* sudo mkdir -p /var/lib/spark/worker; sudo chown -R  USER:GROUP /var/lib/spark/worker\n",
    "##### Untar Binary tar file\n",
    "* tar -xzf dse-6.0.4-bin.tar.gz\n",
    "* cd dse-6.0.4"
   ]
  },
  {
   "cell_type": "markdown",
   "metadata": {},
   "source": [
    "### Start DSE\n",
    "* cd bin\n",
    "* ./dse cassandra -k"
   ]
  },
  {
   "cell_type": "markdown",
   "metadata": {},
   "source": [
    "### Install Jupyter and other Python packages\n",
    "#### If you have juypter installed locally, stop it and restart it with dse exec command\n",
    "* pip install jupyter\n",
    "* pip install cassandra-driver\n",
    "* pip install pandas\n",
    "* pip install pattern\n",
    "* /User/amanda.moran/datastax/dse-6.0.4/bin/dse exec jupyter notebook\n",
    "* Login with token displayed in terminal \n",
    "* Example: http://localhost:8889/?token=dcd21bc3a1c1331c6c61d51fb5a9d64c72fca7f4b2a6000e\n",
    "* Navigate to notebooks directory!! "
   ]
  },
  {
   "cell_type": "markdown",
   "metadata": {},
   "source": [
    "### CONGRATS! YOU DID IT!\n",
    "<img src=\"images/congrats.jpg\" width=\"200\" height=\"200\">"
   ]
  },
  {
   "cell_type": "code",
   "execution_count": null,
   "metadata": {},
   "outputs": [],
   "source": []
  },
  {
   "cell_type": "code",
   "execution_count": null,
   "metadata": {},
   "outputs": [],
   "source": []
  }
 ],
 "metadata": {
  "kernelspec": {
   "display_name": "Python 3",
   "language": "python",
   "name": "python3"
  },
  "language_info": {
   "codemirror_mode": {
    "name": "ipython",
    "version": 2
   },
   "file_extension": ".py",
   "mimetype": "text/x-python",
   "name": "python",
   "nbconvert_exporter": "python",
   "pygments_lexer": "ipython2",
   "version": "2.7.15"
  }
 },
 "nbformat": 4,
 "nbformat_minor": 2
}
