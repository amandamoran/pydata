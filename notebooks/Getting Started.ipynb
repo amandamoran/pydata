{
 "cells": [
  {
   "cell_type": "markdown",
   "metadata": {},
   "source": [
    "## Getting Started\n",
    "<img src=\"images/gettingstarted.png\" width=\"500\" height=\"200\">"
   ]
  },
  {
   "cell_type": "markdown",
   "metadata": {},
   "source": [
    "### Overview\n",
    "------\n",
    "#### Install Docker \n",
    "\n",
    "#### Download DataStax Docker Image\n",
    "\n",
    "#### Open Jupyter"
   ]
  },
  {
   "cell_type": "markdown",
   "metadata": {},
   "source": [
    "### Install Docker\n",
    "* Download correct Docker Community Edition: https://store.docker.com/search?type=edition&offering=community\n",
    "* Create Log In to Download\n",
    "* Download Docker\n",
    "<img src=\"images/downloaddocker.png\" width=\"700\" height=\"200\">"
   ]
  },
  {
   "cell_type": "markdown",
   "metadata": {},
   "source": [
    "### Change Memory For Docker\n",
    "* Allow for 5 GB of Memory per container\n",
    "* Docker -> Preferences -> Advanced -> Memory\n",
    "<img src=\"images/memorydocker.png\" width=\"500\" height=\"200\">"
   ]
  },
  {
   "cell_type": "markdown",
   "metadata": {},
   "source": [
    "### Download DSE/Jupyter Image\n",
    "* cd **YourDownloadPath**/pydata\n",
    "* docker-compose up -d (Should take 6 minutes but will also start DataStax Enterprise, Spark, and Juypter)\n",
    "*\n"
   ]
  },
  {
   "cell_type": "markdown",
   "metadata": {},
   "source": [
    "### Open Jupyter\n",
    "* Once download and start is complete \n",
    "* Login with token that is in Jupyter logs\n",
    "* docker logs pydata_jupyter_1 \n",
    "<img src=\"images/jupyterterm.png\" width=\"1000\" height=\"200\">\n",
    "* Example: http://127.0.0.1:8889/?token=dcd21bc3a1c1331c6c61d51fb5a9d64c72fca7f4b2a6000e\n",
    "* Navigate to notebooks directory!! \n",
    "* Open When Rotten Tomatoes isn’t Enough CSV.ipynb "
   ]
  },
  {
   "cell_type": "markdown",
   "metadata": {},
   "source": [
    "### CONGRATS! YOU DID IT!\n",
    "<img src=\"images/congrats.jpg\" width=\"200\" height=\"200\">"
   ]
  },
  {
   "cell_type": "code",
   "execution_count": null,
   "metadata": {},
   "outputs": [],
   "source": []
  },
  {
   "cell_type": "code",
   "execution_count": null,
   "metadata": {},
   "outputs": [],
   "source": []
  }
 ],
 "metadata": {
  "kernelspec": {
   "display_name": "Python 2",
   "language": "python",
   "name": "python2"
  },
  "language_info": {
   "codemirror_mode": {
    "name": "ipython",
    "version": 2
   },
   "file_extension": ".py",
   "mimetype": "text/x-python",
   "name": "python",
   "nbconvert_exporter": "python",
   "pygments_lexer": "ipython2",
   "version": "2.7.13"
  }
 },
 "nbformat": 4,
 "nbformat_minor": 2
}
